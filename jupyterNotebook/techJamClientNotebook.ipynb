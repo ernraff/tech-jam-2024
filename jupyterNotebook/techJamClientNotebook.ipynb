{
 "cells": [
  {
   "cell_type": "code",
   "execution_count": 18,
   "id": "1f8e96d8",
   "metadata": {},
   "outputs": [],
   "source": [
    "import json\n",
    "import http.client\n",
    "import boto3\n",
    "import urllib3\n",
    "import requests\n",
    "\n",
    "\n",
    "s3_client = boto3.client('s3')\n",
    "\n",
    "API_KEY = \"secret\"\n",
    "API_HOST = \"lg1uksflod.execute-api.us-east-1.amazonaws.com\"\n",
    "LOCAL_FILE_PATH = \"/home/ec2-user/SageMaker\"\n",
    "\n",
    "def getpresignedURL(fileName):\n",
    "    conn = http.client.HTTPSConnection(API_HOST)\n",
    "    payload = ''\n",
    "    headers = {\n",
    "      'X-API-key': API_KEY,\n",
    "      'Content-type': 'application/json'\n",
    "    }\n",
    "    conn.request(\"GET\", \"/prod/TechJam/presignedUrl/{}\".format(fileName), payload, headers)\n",
    "    res = conn.getresponse()\n",
    "    return json.loads(res.read().decode('unicode_escape'))\n",
    "    \n",
    "def getRecommendation(fileName):\n",
    "    conn = http.client.HTTPSConnection(API_HOST)\n",
    "    payload = ''\n",
    "    headers = {\n",
    "      'X-API-key': API_KEY,\n",
    "      'Content-type': 'application/json'\n",
    "    }\n",
    "    conn.request(\"GET\", \"/prod/TechJam/recommendation/{}\".format(fileName), payload, headers)\n",
    "    res = conn.getresponse()\n",
    "    return json.loads(res.read().decode('unicode_escape'))[\"fileName\"]\n",
    "    \n",
    "# def uploadFile(localFilePath, presignedUrl):\n",
    "#     # Extract the hostname and the path from the presigned URL\n",
    "#     url_parts = presignedUrl.replace('https://', '').split('/', 1)\n",
    "#     host = url_parts[0]\n",
    "#     path = '/' + url_parts[1]\n",
    "#     with open(localFilePath, 'rb') as file:  \n",
    "#         try:\n",
    "#             print(\"file:{}\".format(file))\n",
    "#             s3conn = http.client.HTTPSConnection(host)\n",
    "#             foo = {'text': 'Hello HTTP #1 **cool**, and #1!'}\n",
    "#             json_data = json.dumps(foo)\n",
    "#             s3conn.request(\"PUT\", path, file)\n",
    "#             return s3conn.getresponse()\n",
    "#         except Exception as e:\n",
    "#             raise e\n",
    "\n",
    "def upload_file_to_s3_presigned_url(file_path, presigned_url):\n",
    "    with open(file_path, 'rb') as file:\n",
    "        try:\n",
    "            response = requests.put(presigned_url, data=file)\n",
    "            response.raise_for_status()  # Raises stored HTTPError, if one occurred.\n",
    "            print(f\"Upload Successful: {response.status_code}\")\n",
    "            return response\n",
    "        except requests.exceptions.RequestException as e:\n",
    "            print(f\"Upload Failed: {e}\")\n",
    "\n"
   ]
  },
  {
   "cell_type": "code",
   "execution_count": 19,
   "id": "c372a48b",
   "metadata": {},
   "outputs": [
    {
     "name": "stdout",
     "output_type": "stream",
     "text": [
      "Upload Successful: 200\n",
      "hodu123.MOV\n"
     ]
    }
   ],
   "source": [
    "    fileName = \"hodu123.MOV\"\n",
    "\n",
    "    presignedUrl = getpresignedURL(fileName)\n",
    "    \n",
    "#     uploadSuccess = uploadFile(LOCAL_FILE_PATH, presignedUrl)\n",
    "\n",
    "    localFilePath = \"{}/{}\".format(LOCAL_FILE_PATH, fileName)\n",
    "    uploadSuccess = upload_file_to_s3_presigned_url(localFilePath, presignedUrl)\n",
    "    \n",
    "    recommendation = \"\"\n",
    "    if(uploadSuccess.status_code == 200):\n",
    "        recommendation = getRecommendation(fileName)\n",
    "    else:\n",
    "        raise Exception(\"uploading file Fail:{}\".format(uploadSuccess.reason))\n",
    "    \n",
    "    print(recommendation)\n",
    "        "
   ]
  },
  {
   "cell_type": "code",
   "execution_count": 5,
   "id": "2b6ced8e",
   "metadata": {},
   "outputs": [
    {
     "data": {
      "text/plain": [
       "'/home/ec2-user/SageMaker'"
      ]
     },
     "execution_count": 5,
     "metadata": {},
     "output_type": "execute_result"
    }
   ],
   "source": [
    "import os\n",
    "os.path.abspath(\"\")"
   ]
  },
  {
   "cell_type": "code",
   "execution_count": null,
   "id": "a52092e1",
   "metadata": {},
   "outputs": [],
   "source": []
  }
 ],
 "metadata": {
  "kernelspec": {
   "display_name": "conda_pytorch_p310",
   "language": "python",
   "name": "conda_pytorch_p310"
  },
  "language_info": {
   "codemirror_mode": {
    "name": "ipython",
    "version": 3
   },
   "file_extension": ".py",
   "mimetype": "text/x-python",
   "name": "python",
   "nbconvert_exporter": "python",
   "pygments_lexer": "ipython3",
   "version": "3.10.14"
  }
 },
 "nbformat": 4,
 "nbformat_minor": 5
}
